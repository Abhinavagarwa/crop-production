{
  "nbformat": 4,
  "nbformat_minor": 0,
  "metadata": {
    "colab": {
      "provenance": []
    },
    "kernelspec": {
      "name": "python3",
      "display_name": "Python 3"
    },
    "language_info": {
      "name": "python"
    }
  },
  "cells": [
    {
      "cell_type": "code",
      "execution_count": 17,
      "metadata": {
        "colab": {
          "base_uri": "https://localhost:8080/"
        },
        "id": "HfP6RNDPJmKc",
        "outputId": "1d1ffa19-444b-42a9-a2cc-6c13345e3c1f"
      },
      "outputs": [
        {
          "output_type": "stream",
          "name": "stdout",
          "text": [
            "Yield Prediction - Mean Absolute Error: 1.44\n",
            "Yield Prediction - R-squared Score: -0.09\n",
            "Fertilizer Prediction - Mean Absolute Error: 12.50\n",
            "Fertilizer Prediction - R-squared Score: -0.14\n",
            "Predicted Yield: 3.23 tons/ha\n",
            "Predicted Fertilizer Needs (N, P, K): [55.85 52.9  33.77]\n"
          ]
        }
      ],
      "source": [
        "import pandas as pd\n",
        "import numpy as np\n",
        "from sklearn.model_selection import train_test_split\n",
        "from sklearn.ensemble import RandomForestRegressor\n",
        "from sklearn.metrics import mean_absolute_error, r2_score\n",
        "\n",
        "# Load dataset\n",
        "df = pd.read_csv(\"crop_yield_fertilizer.csv\")\n",
        "\n",
        "# Encode categorical crop type\n",
        "df = pd.get_dummies(df, columns=['Crop'], drop_first=True)\n",
        "\n",
        "# Define features and target variables\n",
        "X = df.drop(columns=['Yield (tons/ha)', 'Nitrogen (N)', 'Phosphorus (P)', 'Potassium (K)'])  # Features\n",
        "y_yield = df['Yield (tons/ha)']  # Yield target variable\n",
        "y_fertilizer = df[['Nitrogen (N)', 'Phosphorus (P)', 'Potassium (K)']]  # Fertilizer target variables\n",
        "\n",
        "# Split data into training and testing sets\n",
        "X_train, X_test, y_train_yield, y_test_yield = train_test_split(X, y_yield, test_size=0.2, random_state=42)\n",
        "X_train_fert, X_test_fert, y_train_fert, y_test_fert = train_test_split(X, y_fertilizer, test_size=0.2, random_state=42)\n",
        "\n",
        "# Train a Random Forest Regressor model for yield prediction\n",
        "yield_model = RandomForestRegressor(n_estimators=100, random_state=42)\n",
        "yield_model.fit(X_train, y_train_yield)\n",
        "\n",
        "# Train a Random Forest Regressor model for fertilizer prediction\n",
        "fertilizer_model = RandomForestRegressor(n_estimators=100, random_state=42)\n",
        "fertilizer_model.fit(X_train_fert, y_train_fert)\n",
        "\n",
        "# Make predictions\n",
        "y_pred_yield = yield_model.predict(X_test)\n",
        "y_pred_fertilizer = fertilizer_model.predict(X_test_fert)\n",
        "\n",
        "# Evaluate the models\n",
        "mae_yield = mean_absolute_error(y_test_yield, y_pred_yield)\n",
        "r2_yield = r2_score(y_test_yield, y_pred_yield)\n",
        "\n",
        "mae_fertilizer = mean_absolute_error(y_test_fert, y_pred_fertilizer)\n",
        "r2_fertilizer = r2_score(y_test_fert, y_pred_fertilizer)\n",
        "\n",
        "print(f\"Yield Prediction - Mean Absolute Error: {mae_yield:.2f}\")\n",
        "print(f\"Yield Prediction - R-squared Score: {r2_yield:.2f}\")\n",
        "print(f\"Fertilizer Prediction - Mean Absolute Error: {mae_fertilizer:.2f}\")\n",
        "print(f\"Fertilizer Prediction - R-squared Score: {r2_fertilizer:.2f}\")\n",
        "\n",
        "# Function to predict crop yield and fertilizer needs based on new input\n",
        "def predict_yield_fertilizer(input_data):\n",
        "    input_df = pd.DataFrame([input_data])\n",
        "    input_df = input_df.reindex(columns=X.columns, fill_value=0)\n",
        "    predicted_yield = yield_model.predict(input_df)[0]\n",
        "    predicted_fertilizer = fertilizer_model.predict(input_df)[0]\n",
        "    return predicted_yield, predicted_fertilizer\n",
        "\n",
        "# Example input for prediction\n",
        "example_input = {\n",
        "    'Temperature (°C)': 28.0,\n",
        "    'Rainfall (mm)': 3000,\n",
        "    'Soil pH': 7.5,\n",
        "    'Crop_Rice': 1,  # Set 1 for selected crop, 0 for others\n",
        "}\n",
        "\n",
        "predicted_yield, predicted_fertilizer = predict_yield_fertilizer(example_input)\n",
        "print(f\"Predicted Yield: {predicted_yield:.2f} tons/ha\")\n",
        "print(f\"Predicted Fertilizer Needs (N, P, K): {predicted_fertilizer}\")\n"
      ]
    }
  ]
}